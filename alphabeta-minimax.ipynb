{
  "cells": [
    {
      "cell_type": "markdown",
      "metadata": {},
      "source": [
        "# ALPHA BETA"
      ]
    },
    {
      "cell_type": "code",
      "execution_count": 1,
      "metadata": {
        "colab": {
          "base_uri": "https://localhost:8080/"
        },
        "id": "yxUVeTQQMzU1",
        "outputId": "308e77c1-d106-438a-b7a4-01bd78616be5"
      },
      "outputs": [
        {
          "name": "stdout",
          "output_type": "stream",
          "text": [
            "The optimal value is: 8\n"
          ]
        }
      ],
      "source": [
        "MAX = float('inf')\n",
        "MIN = float('-inf')\n",
        "\n",
        "def minimax(depth, nodeIndex, maximizingPlayer, values, alpha, beta):\n",
        "    if depth == 3:\n",
        "        return values[nodeIndex]\n",
        "\n",
        "    if maximizingPlayer:\n",
        "        best = MIN\n",
        "        for i in range(0, 2):\n",
        "            val = minimax(depth + 1, nodeIndex * 2 + i, False, values, alpha, beta)\n",
        "            best = max(best, val)\n",
        "            alpha = max(alpha, best)\n",
        "            if beta <= alpha:\n",
        "                break\n",
        "        return best\n",
        "    else:\n",
        "        best = MAX\n",
        "        for i in range(0, 2):\n",
        "            val = minimax(depth + 1, nodeIndex * 2 + i, True, values, alpha, beta)\n",
        "            best = min(best, val)\n",
        "            beta = min(beta, best)\n",
        "\n",
        "            if beta <= alpha:\n",
        "                break\n",
        "        return best\n",
        "\n",
        "if __name__=='__main__':\n",
        "    values = [3,12,8,2,4,6,14,5]\n",
        "    print(\"The optimal value is:\", minimax(0, 0,True, values, MIN, MAX))\n"
      ]
    },
    {
      "cell_type": "code",
      "execution_count": null,
      "metadata": {},
      "outputs": [],
      "source": [
        "import math\n",
        "def minmax(curDepth, nodeIndex, maxTurn, scores, targetDepth):\n",
        "    if (curDepth == targetDepth):\n",
        "        return scores[nodeIndex]\n",
        "    if(maxTurn):\n",
        "        return max(minmax(curDepth + 1, nodeIndex * 2, False, scores, targetDepth),\n",
        "                   minmax(curDepth + 1, nodeIndex * 2 + 1, False, scores, targetDepth))\n",
        "    else:\n",
        "        return min(minmax(curDepth + 1, nodeIndex * 2, True, scores, targetDepth),\n",
        "                   minmax(curDepth + 1, nodeIndex * 2 + 1, True, scores, targetDepth))\n",
        "\n",
        "scores =[3,12,8,2]\n",
        "treeDepth= math.log(len(scores),2)\n",
        "print(treeDepth)\n",
        "print(\"The Optimal value is \",end=\"\")\n",
        "print(minmax(0,0,True, scores, treeDepth))\n"
      ]
    }
  ],
  "metadata": {
    "colab": {
      "provenance": []
    },
    "kernelspec": {
      "display_name": "Python 3",
      "name": "python3"
    },
    "language_info": {
      "codemirror_mode": {
        "name": "ipython",
        "version": 3
      },
      "file_extension": ".py",
      "mimetype": "text/x-python",
      "name": "python",
      "nbconvert_exporter": "python",
      "pygments_lexer": "ipython3",
      "version": "3.12.6"
    }
  },
  "nbformat": 4,
  "nbformat_minor": 0
}
