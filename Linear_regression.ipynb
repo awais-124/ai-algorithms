{
 "cells": [
  {
   "cell_type": "code",
   "execution_count": 3,
   "metadata": {},
   "outputs": [
    {
     "name": "stdout",
     "output_type": "stream",
     "text": [
      "NULL COUNT \n",
      "Area (sq ft)                    0\n",
      "Locality Rating                 0\n",
      "Bedrooms                        0\n",
      "Age of House (years)            0\n",
      "Distance to City Center (km)    0\n",
      "Price (USD)                     0\n",
      "dtype: int64\n",
      "\n",
      "Model Performance:\n",
      "Mean Absolute Error (MSE): 4002.35\n",
      "Mean Squared Error (MSE): 25153721.45\n",
      "Root Mean Squared Error (RMSE): 5015.35\n",
      "R-squared (R²): 1.00\n"
     ]
    }
   ],
   "source": [
    "import numpy as np\n",
    "import pandas as pd\n",
    "from sklearn.model_selection import train_test_split\n",
    "from sklearn.linear_model import LinearRegression\n",
    "from sklearn.metrics import mean_squared_error, r2_score, mean_absolute_error\n",
    "df = pd.read_csv('house_prices.csv')\n",
    "print(\"NULL COUNT \")\n",
    "print(df.isnull().sum())\n",
    "# target column name = 'Price (USD)'\n",
    "X = df.drop(columns=['Price (USD)'])\n",
    "y = df['Price (USD)']\n",
    "X_train, X_test, y_train, y_test = train_test_split(X, y, test_size=0.3, random_state=42)\n",
    "lr = LinearRegression()\n",
    "lr.fit(X_train, y_train)\n",
    "y_pred = lr.predict(X_test)\n",
    "mae = mean_absolute_error(y_test, y_pred)\n",
    "mse = mean_squared_error(y_test, y_pred)\n",
    "rmse = np.sqrt(mse)\n",
    "r_squared = r2_score(y_test, y_pred)\n",
    "print(\"\\nModel Performance:\")\n",
    "print(f\"Mean Absolute Error (MSE): {mae:.2f}\")\n",
    "print(f\"Mean Squared Error (MSE): {mse:.2f}\")\n",
    "print(f\"Root Mean Squared Error (RMSE): {rmse:.2f}\")\n",
    "print(f\"R-squared (R²): {r_squared:.2f}\")"
   ]
  },
  {
   "cell_type": "code",
   "execution_count": null,
   "metadata": {},
   "outputs": [],
   "source": []
  }
 ],
 "metadata": {
  "kernelspec": {
   "display_name": "Python 3",
   "language": "python",
   "name": "python3"
  },
  "language_info": {
   "codemirror_mode": {
    "name": "ipython",
    "version": 3
   },
   "file_extension": ".py",
   "mimetype": "text/x-python",
   "name": "python",
   "nbconvert_exporter": "python",
   "pygments_lexer": "ipython3",
   "version": "3.12.6"
  }
 },
 "nbformat": 4,
 "nbformat_minor": 2
}
