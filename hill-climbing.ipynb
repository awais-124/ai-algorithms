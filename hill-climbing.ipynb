{
  "cells": [
    {
      "cell_type": "code",
      "execution_count": 2,
      "metadata": {
        "colab": {
          "base_uri": "https://localhost:8080/"
        },
        "id": "kXyTzsN-wxYs",
        "outputId": "3acffb47-35e8-42e2-e580-e2b7b1f1b0fd"
      },
      "outputs": [
        {
          "name": "stdout",
          "output_type": "stream",
          "text": [
            "Iteration 1: State = ['A', 'C', 'D', 'B', 'E', 'G', 'F'], Score = 5\n",
            "Iteration 2: State = ['A', 'C', 'B', 'D', 'E', 'G', 'F'], Score = 7\n",
            "\n",
            "Goal reached in 2 iterations: ['A', 'C', 'B', 'D', 'E', 'G', 'F']\n"
          ]
        }
      ],
      "source": [
        "initial_state = ['A', 'D', 'C', 'B', 'E', 'G', 'F']\n",
        "goal_state = ['A', 'C', 'B', 'D', 'E', 'G', 'F']\n",
        "\n",
        "def heuristic(state):\n",
        "    score = 0\n",
        "    for i in range(len(state)):\n",
        "        if state[i] == goal_state[i]:\n",
        "            score += 1\n",
        "    return score\n",
        "\n",
        "def get_neighbors(state):\n",
        "    neighbors = []\n",
        "    for i in range(len(state) - 1):\n",
        "        neighbor = state[:]\n",
        "        neighbor[i], neighbor[i + 1] = neighbor[i + 1], neighbor[i]\n",
        "        neighbors.append(neighbor)\n",
        "    return neighbors\n",
        "\n",
        "def hill_climbing(initial_state):\n",
        "    current_state = initial_state\n",
        "    current_score = heuristic(current_state)\n",
        "    iterations = 0\n",
        "\n",
        "    while current_score < len(goal_state):\n",
        "        neighbors = get_neighbors(current_state)\n",
        "        next_state = current_state\n",
        "        next_score = current_score\n",
        "\n",
        "        for neighbor in neighbors:\n",
        "            score = heuristic(neighbor)\n",
        "            if score > next_score:\n",
        "                next_state = neighbor\n",
        "                next_score = score\n",
        "\n",
        "        if next_score == current_score:\n",
        "            print(\"No further improvement found.\")\n",
        "            break\n",
        "\n",
        "        current_state = next_state\n",
        "        current_score = next_score\n",
        "        iterations += 1\n",
        "\n",
        "        print(f\"Iteration {iterations}: State = {current_state}, Score = {current_score}\")\n",
        "\n",
        "    if current_state == goal_state:\n",
        "        print(f\"\\nGoal reached in {iterations} iterations: {current_state}\")\n",
        "    else:\n",
        "        print(\"\\nStuck in local maximum.\")\n",
        "\n",
        "hill_climbing(initial_state)"
      ]
    },
    {
      "cell_type": "code",
      "execution_count": null,
      "metadata": {
        "id": "pqewKFZy6FhV"
      },
      "outputs": [],
      "source": [
        "import random\n",
        "\n",
        "target = \"Hello World!\"\n",
        "target_length = len(target)\n",
        "\n",
        "def generate_random_solution(length):\n",
        "    characters = \"ABCDEFGHIJKLMNOPQRSTUVWXYZabcdefghijklmnopqrstuvwxyz! \"\n",
        "    return ''.join(random.choice(characters) for _ in range(length))\n",
        "\n",
        "def evaluate_solution(solution):\n",
        "    score = 0\n",
        "    for i in range(len(solution)):\n",
        "        if solution[i] == target[i]:\n",
        "            score += 1\n",
        "    return score\n",
        "\n",
        "def hill_climbing():\n",
        "    current_solution = generate_random_solution(target_length)\n",
        "    current_score = evaluate_solution(current_solution)\n",
        "    iterations = 0\n",
        "\n",
        "    while current_score < target_length:\n",
        "\n",
        "        new_solution = list(current_solution)\n",
        "        index_to_change = random.randint(0, target_length - 1)\n",
        "        new_char = random.choice(\"ABCDEFGHIJKLMNOPQRSTUVWXYZabcdefghijklmnopqrstuvwxyz! \")\n",
        "        new_solution[index_to_change] = new_char\n",
        "        new_solution = ''.join(new_solution)\n",
        "\n",
        "        new_score = evaluate_solution(new_solution)\n",
        "\n",
        "        if new_score > current_score:\n",
        "            current_solution = new_solution\n",
        "            current_score = new_score\n",
        "            print(f\"Iteration {iterations}: {current_solution} (Score: {current_score})\")\n",
        "\n",
        "        iterations += 1\n",
        "\n",
        "    print(f\"\\nOptimal solution found: {current_solution} in {iterations} iterations.\")\n",
        "\n",
        "if __name__ == \"__main__\":\n",
        "    hill_climbing()"
      ]
    }
  ],
  "metadata": {
    "colab": {
      "provenance": []
    },
    "kernelspec": {
      "display_name": "Python 3",
      "name": "python3"
    },
    "language_info": {
      "codemirror_mode": {
        "name": "ipython",
        "version": 3
      },
      "file_extension": ".py",
      "mimetype": "text/x-python",
      "name": "python",
      "nbconvert_exporter": "python",
      "pygments_lexer": "ipython3",
      "version": "3.12.6"
    }
  },
  "nbformat": 4,
  "nbformat_minor": 0
}
