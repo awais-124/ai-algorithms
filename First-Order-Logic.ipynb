{
  "cells": [
    {
      "cell_type": "code",
      "execution_count": 4,
      "metadata": {
        "colab": {
          "base_uri": "https://localhost:8080/"
        },
        "id": "QtB8f3APuXas",
        "outputId": "ce92783e-c486-487b-a64a-f39a1046d70d"
      },
      "outputs": [
        {
          "name": "stdout",
          "output_type": "stream",
          "text": [
            "~(bird & canfly)\n"
          ]
        }
      ],
      "source": [
        "from sympy import symbols, Function\n",
        "from sympy.logic.boolalg import And, Or, Not\n",
        "\n",
        "x,y= symbols('x y')\n",
        "bird= symbols('bird')\n",
        "canfly=symbols('canfly')\n",
        "result=And(bird,canfly)\n",
        "final=Not(result)\n",
        "res=And(x,y)\n",
        "print(final)"
      ]
    },
    {
      "cell_type": "code",
      "execution_count": 8,
      "metadata": {
        "colab": {
          "base_uri": "https://localhost:8080/"
        },
        "id": "7Olwida3vwtb",
        "outputId": "73662464-9cf9-45db-81ff-cb0c024824a4"
      },
      "outputs": [
        {
          "name": "stdout",
          "output_type": "stream",
          "text": [
            "[-3/2]\n"
          ]
        }
      ],
      "source": [
        "from sympy import symbols,Function,Eq,solve\n",
        "from sympy.logic.boolalg import And, Or,Not\n",
        "\n",
        "equation=Eq(2*x + 3,0)\n",
        "res=solve(equation,x)\n",
        "print(res)"
      ]
    }
  ],
  "metadata": {
    "colab": {
      "provenance": []
    },
    "kernelspec": {
      "display_name": "Python 3",
      "name": "python3"
    },
    "language_info": {
      "name": "python"
    }
  },
  "nbformat": 4,
  "nbformat_minor": 0
}
