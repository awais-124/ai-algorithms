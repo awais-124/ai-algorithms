{
 "cells": [
  {
   "cell_type": "markdown",
   "metadata": {},
   "source": [
    "# USING A STAR TO FIND PATH"
   ]
  },
  {
   "cell_type": "code",
   "execution_count": 41,
   "metadata": {
    "colab": {
     "base_uri": "https://localhost:8080/"
    },
    "executionInfo": {
     "elapsed": 354,
     "status": "ok",
     "timestamp": 1733303382439,
     "user": {
      "displayName": "Muhammad Awais",
      "userId": "08073418818050739456"
     },
     "user_tz": -300
    },
    "id": "CjnlGTVFvpPh",
    "outputId": "1ae737cc-1884-4ffb-c3cd-71ae7e71f5db"
   },
   "outputs": [
    {
     "name": "stdout",
     "output_type": "stream",
     "text": [
      "Solution steps:\n",
      "[[0, 1, 2], [3, 4, 8], [5, 7, 6]]\n",
      "[[3, 1, 2], [0, 4, 8], [5, 7, 6]]\n",
      "[[3, 1, 2], [5, 4, 8], [0, 7, 6]]\n",
      "[[3, 1, 2], [5, 4, 8], [7, 0, 6]]\n",
      "[[3, 1, 2], [5, 0, 8], [7, 4, 6]]\n",
      "[[3, 1, 2], [0, 5, 8], [7, 4, 6]]\n",
      "[[3, 1, 2], [7, 5, 8], [0, 4, 6]]\n",
      "[[3, 1, 2], [7, 5, 8], [4, 0, 6]]\n",
      "[[3, 1, 2], [7, 5, 8], [4, 6, 0]]\n",
      "[[3, 1, 2], [7, 5, 0], [4, 6, 8]]\n",
      "[[3, 1, 2], [7, 0, 5], [4, 6, 8]]\n",
      "[[3, 1, 2], [0, 7, 5], [4, 6, 8]]\n",
      "[[3, 1, 2], [4, 7, 5], [0, 6, 8]]\n",
      "[[3, 1, 2], [4, 7, 5], [6, 0, 8]]\n",
      "[[3, 1, 2], [4, 0, 5], [6, 7, 8]]\n",
      "[[3, 1, 2], [0, 4, 5], [6, 7, 8]]\n",
      "[[0, 1, 2], [3, 4, 5], [6, 7, 8]]\n"
     ]
    }
   ],
   "source": [
    "# Define the goal state\n",
    "GOAL_STATE = [[0,1,2], [3,4,5], [6,7,8]]\n",
    "\n",
    "# Calculate the Manhattan distance\n",
    "def manhattan_distance(state):\n",
    "    distance = 0\n",
    "    for i in range(3):\n",
    "        for j in range(3):\n",
    "            if state[i][j] != 0:\n",
    "                goal_x, goal_y = (state[i][j] - 1) // 3, (state[i][j] - 1) % 3\n",
    "                distance += abs(goal_x - i) + abs(goal_y - j)\n",
    "    return distance\n",
    "\n",
    "def misplaced_tiles(state):\n",
    "  distance =0\n",
    "  for i in range(0, 3):\n",
    "    for j in range(0,3):\n",
    "       if state[i][j] != 0 and  state[i][j] != GOAL_STATE[i][j]:\n",
    "         distance+=1\n",
    "  return distance\n",
    "\n",
    "\n",
    "# Find the blank tile (0) position\n",
    "def find_blank(state):\n",
    "    for i in range(3):\n",
    "        for j in range(3):\n",
    "            if state[i][j] == 0:\n",
    "                return i, j\n",
    "\n",
    "# Generate all possible moves\n",
    "\"\"\"\n",
    "for all possible moves, check if move is valid i.e\n",
    "not out of board, then if valid, append to moves and\n",
    "at the end return all moves\n",
    "\"\"\"\n",
    "def generate_moves(state):\n",
    "    moves = []\n",
    "    x, y = find_blank(state)\n",
    "    directions = [(-1, 0), (1, 0), (0, -1), (0, 1)]  # Up, Down, Left, Right\n",
    "    for dx, dy in directions:\n",
    "        nx, ny = x + dx, y + dy\n",
    "        if 0 <= nx < 3 and 0 <= ny < 3:\n",
    "            new_state = [row[:] for row in state]\n",
    "            new_state[x][y], new_state[nx][ny] = new_state[nx][ny], new_state[x][y]\n",
    "            moves.append(new_state)\n",
    "    return moves\n",
    "\n",
    "# Find the state with the smallest f-cost\n",
    "def get_next_state(open_list):\n",
    "    best_state = min(open_list, key=lambda x: x[0])\n",
    "    open_list.remove(best_state)\n",
    "    return best_state\n",
    "\n",
    "# A* Search\n",
    "def a_star(initial_state):\n",
    "    open_list = [(misplaced_tiles(initial_state), 0, initial_state, [])]  # (f, g, state, path)\n",
    "    visited = []\n",
    "\n",
    "    while open_list:\n",
    "        f, g, current, path = get_next_state(open_list)\n",
    "        if current == GOAL_STATE:\n",
    "            return path + [current]\n",
    "\n",
    "        if current not in visited:\n",
    "            visited.append(current)\n",
    "            for move in generate_moves(current):\n",
    "                open_list.append((g + 1 + misplaced_tiles(move), g + 1, move, path + [current]))\n",
    "\n",
    "    return None\n",
    "\n",
    "# Test the implementation\n",
    "initial_state = [[0,1,2], [3,4,8], [5,7,6]]\n",
    "solution = a_star(initial_state)\n",
    "\n",
    "if solution:\n",
    "    print(\"Solution steps:\")\n",
    "    for step in solution:\n",
    "        print(step)\n",
    "else:\n",
    "    print(\"No solution found.\")\n"
   ]
  },
  {
   "cell_type": "code",
   "execution_count": 37,
   "metadata": {
    "colab": {
     "base_uri": "https://localhost:8080/"
    },
    "executionInfo": {
     "elapsed": 354,
     "status": "ok",
     "timestamp": 1733302956138,
     "user": {
      "displayName": "Muhammad Awais",
      "userId": "08073418818050739456"
     },
     "user_tz": -300
    },
    "id": "4pI6gg5QzqKi",
    "outputId": "555638ea-10a0-4c87-fd9e-cbded786b997"
   },
   "outputs": [
    {
     "name": "stdout",
     "output_type": "stream",
     "text": [
      "up\n",
      "-1 0\n",
      "down\n",
      "1 0\n",
      "left\n",
      "0 -1\n",
      "right\n",
      "0 1\n"
     ]
    }
   ],
   "source": [
    "possible_moves = {'up':(-1, 0),'down':(1, 0), 'left':(0, -1), 'right':(0, 1)}\n",
    "for move in possible_moves:\n",
    "  print(move)\n",
    "  (a,b) = possible_moves[move]\n",
    "  print(a,b)"
   ]
  },
  {
   "cell_type": "code",
   "execution_count": 19,
   "metadata": {
    "colab": {
     "base_uri": "https://localhost:8080/"
    },
    "executionInfo": {
     "elapsed": 354,
     "status": "ok",
     "timestamp": 1733300559339,
     "user": {
      "displayName": "Muhammad Awais",
      "userId": "08073418818050739456"
     },
     "user_tz": -300
    },
    "id": "ubyR2FYQvANy",
    "outputId": "bf905b3f-23da-44aa-d85d-685789023386"
   },
   "outputs": [
    {
     "name": "stdout",
     "output_type": "stream",
     "text": [
      "Solution found:\n",
      "Path to solution: [(0, 0), (4, 0), (4, 3), (0, 3), (3, 0), (3, 3), (4, 2), (0, 2), (2, 0)]\n"
     ]
    }
   ],
   "source": []
  }
 ],
 "metadata": {
  "colab": {
   "authorship_tag": "ABX9TyOaG3j6U8vNA+/pH3qgois7",
   "provenance": []
  },
  "kernelspec": {
   "display_name": "Python 3",
   "name": "python3"
  },
  "language_info": {
   "codemirror_mode": {
    "name": "ipython",
    "version": 3
   },
   "file_extension": ".py",
   "mimetype": "text/x-python",
   "name": "python",
   "nbconvert_exporter": "python",
   "pygments_lexer": "ipython3",
   "version": "3.12.6"
  }
 },
 "nbformat": 4,
 "nbformat_minor": 0
}
